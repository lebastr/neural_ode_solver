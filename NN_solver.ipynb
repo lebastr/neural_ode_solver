{
 "cells": [
  {
   "cell_type": "code",
   "execution_count": 1,
   "metadata": {},
   "outputs": [],
   "source": [
    "import torch\n",
    "import torch.nn as nn\n",
    "import torch.nn.functional as F\n",
    "import torch.optim as optim\n",
    "\n",
    "import numpy as np\n",
    "import matplotlib.pyplot as plt\n",
    "\n",
    "from time import time"
   ]
  },
  {
   "cell_type": "code",
   "execution_count": 2,
   "metadata": {},
   "outputs": [],
   "source": [
    "TType = torch.float32\n",
    "\n",
    "def Gravity(Masses):\n",
    "    N = Masses.shape[0]\n",
    "    \n",
    "    def f(state):\n",
    "        Dim = state.shape[2]\n",
    "        # state: (p-v, body, dim)\n",
    "        \n",
    "        X = state[0]\n",
    "        V = state[1]\n",
    "        \n",
    "        A = torch.zeros((N, Dim), dtype=TType)\n",
    "        E = 0.0\n",
    "                \n",
    "        for i_body in range(N):\n",
    "            A[i_body][:] = 0.0\n",
    "            E += Masses[i_body] * (V[i_body]**2).sum() / 2\n",
    "            \n",
    "            for j_body in range(N):\n",
    "                if j_body == i_body:\n",
    "                    continue\n",
    "                    \n",
    "                direction = X[j_body] - X[i_body]\n",
    "                distance = (direction**2).sum().sqrt()\n",
    "                E -= Masses[i_body] * Masses[j_body] / distance / 2\n",
    "                A[i_body] += Masses[j_body] * direction / distance**3\n",
    "                \n",
    "        return torch.stack([V, A]), E\n",
    "    \n",
    "    def dyn(state):\n",
    "        return f(state)[0]\n",
    "    \n",
    "    def energy(state):\n",
    "        return f(state)[1]\n",
    "    \n",
    "    return {'dyn' : dyn, 'energy' : energy}"
   ]
  },
  {
   "cell_type": "code",
   "execution_count": 45,
   "metadata": {},
   "outputs": [],
   "source": [
    "class EulerSolver:\n",
    "    def __init__(self, dyn, h=0.1):\n",
    "        self.dyn = dyn\n",
    "        self.h = h\n",
    "        \n",
    "    def step(self, state, h=None):\n",
    "        if h is None:\n",
    "            h = self.h\n",
    "\n",
    "        delta = h*self.dyn(state)\n",
    "        new_state = state + delta\n",
    "        return new_state      \n",
    "\n",
    "class RungeKutte:\n",
    "    def __init__(self, dyn, h=0.1):\n",
    "        self.dyn = dyn\n",
    "        self.h = h\n",
    "        \n",
    "    def step(self, state, h=None):\n",
    "        if h is None:\n",
    "            h = self.h\n",
    "\n",
    "        k1 = self.dyn(state)\n",
    "        k2 = self.dyn(state + h * 0.5 * k1)\n",
    "        k3 = self.dyn(state + h * 0.5 * k2)\n",
    "        k4 = self.dyn(state + h * k3)\n",
    "        \n",
    "        delta = h*(k1 + 2*k2 + 2*k3 + k4) / 6\n",
    "        new_state = state + delta\n",
    "        return new_state        \n",
    "\n",
    "class NNSolver(nn.Module):\n",
    "    def __init__(self, dyn, h=0.1):\n",
    "        super().__init__()\n",
    "        self.dyn = dyn\n",
    "        self.h = h\n",
    "        self.xs = nn.Parameter(torch.rand(3, dtype=TType))\n",
    "        self.ws = nn.Parameter(torch.rand(4, dtype=TType))\n",
    "        \n",
    "    def step(self, state, h=None):\n",
    "        if h is None:\n",
    "            h = self.h\n",
    "\n",
    "        k0 = self.dyn(state)\n",
    "        k1 = self.dyn(state + h * self.xs[0] * k0)\n",
    "        k2 = self.dyn(state + h * self.xs[1] * k1)\n",
    "        k3 = self.dyn(state + h * self.xs[2] * k2)\n",
    "        \n",
    "        delta = h * (self.ws[0] * k0 + self.ws[1] * k1 + self.ws[2] * k2 + self.ws[3] * k3)\n",
    "        new_state = state + delta\n",
    "        return new_state   "
   ]
  },
  {
   "cell_type": "code",
   "execution_count": 25,
   "metadata": {},
   "outputs": [],
   "source": [
    "def run_dynamics(state0, solvers, steps, h=None, detach=False):\n",
    "    state_h = {}\n",
    "    for k in solvers:\n",
    "        states = [state0]\n",
    "        state_h[k] = states\n",
    "        solver = solvers[k]\n",
    "        for i in range(steps):\n",
    "            s = solver.step(state=states[-1], h=h)\n",
    "            if detach:\n",
    "                s = s.detach()\n",
    "            \n",
    "            states.append(s)\n",
    "            \n",
    "    return state_h\n",
    "\n",
    "def eval_loss(a_states, b_states):\n",
    "    return ((torch.stack(a_states)[:, 0] - torch.stack(b_states)[:, 0])**2).mean()"
   ]
  },
  {
   "cell_type": "code",
   "execution_count": 6,
   "metadata": {},
   "outputs": [],
   "source": [
    "def plot_h(s, *args, **kwargs):\n",
    "    s = torch.stack(s)\n",
    "    for i in range(2):\n",
    "        X, Y = zip(*s[:, 0, i, :])\n",
    "        plt.plot(X, Y, *args, **kwargs)"
   ]
  },
  {
   "cell_type": "code",
   "execution_count": 46,
   "metadata": {},
   "outputs": [],
   "source": [
    "GravitySystem = Gravity(torch.tensor([1, 1], dtype=TType))\n",
    "gravity = GravitySystem['dyn']\n",
    "energy = GravitySystem['energy']\n",
    "\n",
    "XPos = torch.tensor([[-1, 0], \n",
    "                      [1, 0]], dtype=TType)\n",
    "\n",
    "Vels = torch.tensor([[0,  0.5],\n",
    "                     [0, -0.5]], dtype=TType)\n",
    "\n",
    "State0 = torch.stack([XPos, Vels])"
   ]
  },
  {
   "cell_type": "code",
   "execution_count": 48,
   "metadata": {},
   "outputs": [
    {
     "name": "stdout",
     "output_type": "stream",
     "text": [
      "loss: 0.2183435559272766\n"
     ]
    },
    {
     "data": {
      "image/png": "[encoded data removed]",
      "text/plain": [
       "<Figure size 360x360 with 1 Axes>"
      ]
     },
     "metadata": {},
     "output_type": "display_data"
    }
   ],
   "source": [
    "HStep = 0.1\n",
    "\n",
    "euler_solver = EulerSolver(dyn=gravity, h=HStep)\n",
    "rk_solver = RungeKutte(dyn=gravity, h=HStep)\n",
    "nn_solver = NNSolver(dyn=gravity, h=HStep)\n",
    "#nn_solver.xs = nn.Parameter(torch.tensor([0.5, 0.5, 1], dtype=TType))\n",
    "#nn_solver.ws = nn.Parameter(torch.tensor([1/6, 1/3, 1/3, 1/6], dtype=TType))\n",
    "\n",
    "\n",
    "\n",
    "T = run_dynamics(State0, {'euler' : euler_solver, 'rk' : rk_solver, 'nn' : nn_solver}, 30, detach=True)\n",
    "loss0 = eval_loss(T['rk'], T['nn'])\n",
    "print(\"loss: {}\".format(loss0))\n",
    "plt.figure(figsize=(5,5))\n",
    "plot_h(T['rk'], 'black')\n",
    "plot_h(T['euler'], 'g')\n",
    "plot_h(T['nn'], 'r')"
   ]
  },
  {
   "cell_type": "markdown",
   "metadata": {},
   "source": [
    "## Рунге-Кутта учит NN"
   ]
  },
  {
   "cell_type": "code",
   "execution_count": 49,
   "metadata": {},
   "outputs": [],
   "source": [
    "optimizer = optim.Adam(nn_solver.parameters(), lr=0.001)"
   ]
  },
  {
   "cell_type": "code",
   "execution_count": 53,
   "metadata": {
    "scrolled": false
   },
   "outputs": [
    {
     "name": "stdout",
     "output_type": "stream",
     "text": [
      "loss: 1.1791260021709604e-06\n",
      "loss: 4.3022939166803553e-07\n",
      "loss: 7.219730377983069e-07\n",
      "loss: 6.350741159621975e-07\n",
      "loss: 2.954056697035412e-07\n",
      "loss: 4.990213824385137e-07\n",
      "loss: 3.127315437723155e-07\n",
      "loss: 2.209565792554713e-07\n",
      "loss: 3.1679621770308586e-07\n",
      "loss: 1.8212975305686996e-07\n",
      "loss: 1.9598209632931685e-07\n",
      "loss: 2.2504103469600523e-07\n",
      "loss: 1.5655949425763538e-07\n",
      "loss: 1.9205283763312764e-07\n",
      "loss: 1.8805612000960537e-07\n",
      "loss: 1.6124411672535643e-07\n",
      "loss: 1.8618936792336171e-07\n",
      "loss: 1.7106309257997054e-07\n",
      "loss: 1.6418249515481875e-07\n",
      "loss: 1.7476301650276582e-07\n",
      "loss: 1.6085975573787437e-07\n",
      "loss: 1.6183803097646887e-07\n",
      "loss: 1.636201716337382e-07\n",
      "loss: 1.557995261691758e-07\n",
      "loss: 1.585808462323257e-07\n",
      "loss: 1.5702183020493976e-07\n",
      "loss: 1.5413824883125926e-07\n",
      "loss: 1.5642515904801257e-07\n",
      "loss: 1.5449128909494902e-07\n",
      "loss: 1.5424991772761132e-07\n",
      "loss: 1.552492108203296e-07\n",
      "loss: 1.5387624330287508e-07\n",
      "loss: 1.544167673728225e-07\n",
      "loss: 1.5436013711678243e-07\n",
      "loss: 1.5386909524295334e-07\n",
      "loss: 1.5427553989866283e-07\n",
      "loss: 1.5397877461964526e-07\n",
      "loss: 1.5374635609077814e-07\n",
      "loss: 1.5387051632842486e-07\n",
      "loss: 1.5362833494236838e-07\n",
      "loss: 1.5359952953986067e-07\n",
      "loss: 1.5358595817360765e-07\n",
      "loss: 1.5339806225256325e-07\n",
      "loss: 1.5341628056830814e-07\n",
      "loss: 1.533437057332776e-07\n",
      "loss: 1.532319089392331e-07\n",
      "loss: 1.5338849834733992e-07\n",
      "loss: 1.5338490300109697e-07\n",
      "loss: 1.5318659052354633e-07\n",
      "loss: 1.530754190071093e-07\n",
      "loss: 1.5315006862692826e-07\n",
      "loss: 1.5315583823394263e-07\n",
      "loss: 1.5311023560116155e-07\n",
      "loss: 1.5311489676150813e-07\n",
      "loss: 1.5305337797144603e-07\n",
      "loss: 1.5306608247556142e-07\n",
      "loss: 1.5300629740977456e-07\n",
      "loss: 1.52951088239206e-07\n",
      "loss: 1.5286506993561488e-07\n",
      "loss: 1.5286244092749257e-07\n",
      "loss: 1.5282823540019308e-07\n",
      "loss: 1.52733932168303e-07\n",
      "loss: 1.527814106339065e-07\n",
      "loss: 1.5277990428330668e-07\n",
      "loss: 1.5263132979725924e-07\n",
      "loss: 1.5262192221143778e-07\n",
      "loss: 1.526619541891705e-07\n",
      "loss: 1.526097008763827e-07\n",
      "loss: 1.5251984564201848e-07\n",
      "loss: 1.5245856843648653e-07\n",
      "loss: 1.5248130580403085e-07\n",
      "loss: 1.523666384173339e-07\n",
      "loss: 1.5237564809922333e-07\n",
      "loss: 1.5238111927828868e-07\n",
      "loss: 1.5238153139307542e-07\n",
      "loss: 1.5233526085012272e-07\n",
      "loss: 1.5228313543502736e-07\n",
      "loss: 1.522259509556534e-07\n",
      "loss: 1.5229787209136703e-07\n",
      "loss: 1.52279611143058e-07\n",
      "loss: 1.522263346487307e-07\n",
      "loss: 1.5216029680686916e-07\n",
      "loss: 1.521877237564695e-07\n",
      "loss: 1.521720207620092e-07\n",
      "loss: 1.5214543225283705e-07\n",
      "loss: 1.5200816960714292e-07\n",
      "loss: 1.5209727166620723e-07\n",
      "loss: 1.5194679292562796e-07\n",
      "loss: 1.5190163082934305e-07\n",
      "loss: 1.5187534074811992e-07\n",
      "loss: 1.5178157752870902e-07\n",
      "loss: 1.518480274853573e-07\n",
      "loss: 1.517001351203362e-07\n",
      "loss: 1.5168201628057432e-07\n",
      "loss: 1.517355627811412e-07\n",
      "loss: 1.5163598732215178e-07\n",
      "loss: 1.51741161857899e-07\n",
      "loss: 1.5163911371018912e-07\n",
      "loss: 1.5155619337292592e-07\n",
      "loss: 1.515058869472341e-07\n",
      "loss0: 0.2183435559272766, loss: 1.514122232038062e-07\n",
      "e_loss: 0.054849572479724884\n"
     ]
    },
    {
     "data": {
      "image/png": "[encoded data removed]",
      "text/plain": [
       "<Figure size 720x360 with 2 Axes>"
      ]
     },
     "metadata": {},
     "output_type": "display_data"
    }
   ],
   "source": [
    "TSize = 80\n",
    "\n",
    "for epoch in range(200):\n",
    "    optimizer.zero_grad()\n",
    "    \n",
    "    T_l = run_dynamics(State0, {'rk' : rk_solver, 'nn' : nn_solver}, steps=TSize)\n",
    "    loss = eval_loss(T_l['rk'], T_l['nn'])\n",
    "    \n",
    "    if epoch % 2 == 0:\n",
    "        print(\"loss: {}\".format(loss))\n",
    "\n",
    "    nn_solver.zero_grad()\n",
    "    loss.backward()\n",
    "    optimizer.step()\n",
    "\n",
    "print(\"loss0: {}, loss: {}\".format(loss0, loss))\n",
    "T_e = run_dynamics(State0, {'euler' : euler_solver, 'rk' : rk_solver}, TSize, detach=True)\n",
    "print(\"e_loss: {}\".format(eval_loss(T_e['rk'], T_e['euler'])))\n",
    "\n",
    "plt.figure(figsize=(10,5))\n",
    "plt.subplot(1,2,1)\n",
    "plot_h(T['rk'], 'black')\n",
    "plot_h(T['nn'], 'r')\n",
    "\n",
    "plt.subplot(1,2,2)\n",
    "plot_h(T_l['rk'], 'black')\n",
    "plot_h(T_l['nn'], 'r')"
   ]
  },
  {
   "cell_type": "code",
   "execution_count": 54,
   "metadata": {},
   "outputs": [
    {
     "data": {
      "image/png": "[encoded data removed]",
      "text/plain": [
       "<Figure size 360x360 with 1 Axes>"
      ]
     },
     "metadata": {},
     "output_type": "display_data"
    }
   ],
   "source": [
    "T_c = run_dynamics(State0, {'rk' : rk_solver, 'nn' : nn_solver}, steps=1000, h=0.1, detach=True)\n",
    "\n",
    "plt.figure(figsize=(5,5))\n",
    "plot_h(T_c['rk'], ',', color='black')\n",
    "plot_h(T_c['nn'], ',', color='r')"
   ]
  },
  {
   "cell_type": "code",
   "execution_count": 56,
   "metadata": {},
   "outputs": [
    {
     "data": {
      "text/plain": [
       "Parameter containing:\n",
       "tensor([-0.1084,  0.4505,  0.4322,  0.2264], requires_grad=True)"
      ]
     },
     "execution_count": 56,
     "metadata": {},
     "output_type": "execute_result"
    }
   ],
   "source": [
    "nn_solver.ws"
   ]
  },
  {
   "cell_type": "markdown",
   "metadata": {},
   "source": [
    "## Учимся по законам сохранения"
   ]
  },
  {
   "cell_type": "code",
   "execution_count": 220,
   "metadata": {},
   "outputs": [],
   "source": [
    "def eval_energy_loss(dynamics):\n",
    "    es = [energy(d) for d in dynamics]\n",
    "    t = torch.stack(es)\n",
    "    return ((t[1:] - t[:-1])**2).mean()"
   ]
  },
  {
   "cell_type": "code",
   "execution_count": 229,
   "metadata": {},
   "outputs": [
    {
     "name": "stdout",
     "output_type": "stream",
     "text": [
      "loss: 0.023146215826272964\n"
     ]
    },
    {
     "data": {
      "image/png": "[encoded data removed]",
      "text/plain": [
       "<Figure size 360x360 with 1 Axes>"
      ]
     },
     "metadata": {},
     "output_type": "display_data"
    }
   ],
   "source": [
    "HStep = 0.1\n",
    "\n",
    "euler_solver = EulerSolver(dyn=gravity, h=HStep)\n",
    "rk_solver = RungeKutte(dyn=gravity, h=HStep)\n",
    "nn_solver = NNSolver(dyn=gravity, h=HStep)\n",
    "#nn_solver.xs = nn.Parameter(torch.tensor([0.5, 0.5, 1], dtype=TType))\n",
    "#nn_solver.ws = nn.Parameter(torch.tensor([1/6, 1/3, 1/3, 1/6], dtype=TType))\n",
    "\n",
    "\n",
    "\n",
    "T = run_dynamics(State0, {'euler' : euler_solver, 'rk' : rk_solver, 'nn' : nn_solver}, 30, detach=True)\n",
    "loss0 = eval_loss(T['rk'], T['nn'])\n",
    "print(\"loss: {}\".format(loss0))\n",
    "plt.figure(figsize=(5,5))\n",
    "plot_h(T['rk'], 'black')\n",
    "plot_h(T['euler'], 'g')\n",
    "plot_h(T['nn'], 'r')"
   ]
  },
  {
   "cell_type": "code",
   "execution_count": 230,
   "metadata": {},
   "outputs": [],
   "source": [
    "optimizer = optim.Adam(nn_solver.parameters(), lr=0.002)"
   ]
  },
  {
   "cell_type": "code",
   "execution_count": 232,
   "metadata": {},
   "outputs": [
    {
     "name": "stdout",
     "output_type": "stream",
     "text": [
      "loss: 3.4009747906793564e-08\n",
      "loss: 3.105039425577161e-08\n",
      "loss: 2.8297501231122624e-08\n",
      "loss: 2.574302548907781e-08\n",
      "loss: 2.3372676238864187e-08\n",
      "loss: 2.117999819972738e-08\n",
      "loss: 1.9154926533815342e-08\n",
      "loss: 1.7286748033029653e-08\n",
      "loss: 1.55688031355794e-08\n",
      "loss: 1.3989640557099392e-08\n",
      "loss: 1.2543575067525126e-08\n",
      "loss: 1.1220801177103112e-08\n",
      "loss: 1.0013589957225122e-08\n",
      "loss: 8.91442830663891e-09\n",
      "loss: 7.916196587132163e-09\n",
      "loss: 7.0114789529895916e-09\n",
      "loss: 6.193971113788166e-09\n",
      "loss: 5.456921137181325e-09\n",
      "loss: 4.794733943214169e-09\n",
      "loss: 4.200872538717704e-09\n",
      "loss: 3.6699117078597965e-09\n",
      "loss: 3.1963560687131576e-09\n",
      "loss: 2.7759481380229545e-09\n",
      "loss: 2.403114596205569e-09\n",
      "loss: 2.0737698225303802e-09\n",
      "loss: 1.784005831950708e-09\n",
      "loss: 1.5294915334251868e-09\n",
      "loss: 1.3067394943888644e-09\n",
      "loss: 1.1125907972697746e-09\n",
      "loss: 9.440084269840554e-10\n",
      "loss: 7.979001348523695e-10\n",
      "loss: 6.719287903855786e-10\n",
      "loss: 5.636176525491976e-10\n",
      "loss: 4.709969636529365e-10\n",
      "loss: 3.919702895593957e-10\n",
      "loss: 3.247583590937353e-10\n",
      "loss: 2.6796553864727457e-10\n",
      "loss: 2.2018749323837739e-10\n",
      "loss: 1.799451976314259e-10\n",
      "loss: 1.4641038381668636e-10\n",
      "loss: 1.1855959269890803e-10\n",
      "loss: 9.547563434297857e-11\n",
      "loss: 7.647291827561631e-11\n",
      "loss: 6.087483295225127e-11\n",
      "loss: 4.8166172439412236e-11\n",
      "loss: 3.788618377353892e-11\n",
      "loss: 2.959431658067224e-11\n",
      "loss: 2.2959512763209844e-11\n",
      "loss: 1.764911827795146e-11\n",
      "loss: 1.3473427235011215e-11\n",
      "loss: 1.0185996143774467e-11\n",
      "loss: 7.624250189519621e-12\n",
      "loss: 5.634399630888298e-12\n",
      "loss: 4.109688284126278e-12\n",
      "loss: 2.967837130565809e-12\n",
      "loss: 2.1031620455608246e-12\n",
      "loss: 1.465036967608635e-12\n",
      "loss: 9.97408861232174e-13\n",
      "loss: 6.627764743277753e-13\n",
      "loss: 4.265654398715596e-13\n",
      "loss: 2.622702131426652e-13\n",
      "loss: 1.5412115485745337e-13\n",
      "loss: 8.394396018140265e-14\n",
      "loss: 4.0523140398818214e-14\n",
      "loss: 1.6591173151048882e-14\n",
      "loss: 4.9160674175149216e-15\n",
      "loss: 1.1368683518051719e-15\n",
      "loss: 2.0961009773186714e-15\n",
      "loss: 5.417888275467469e-15\n",
      "loss: 9.610090230104812e-15\n",
      "loss: 1.341149447628507e-14\n",
      "loss: 1.7434941633324465e-14\n",
      "loss: 2.0055068649066192e-14\n",
      "loss: 2.230216066077123e-14\n",
      "loss: 2.2870594307278225e-14\n",
      "loss: 2.365219057122534e-14\n",
      "loss: 2.2222224467472948e-14\n",
      "loss: 2.175148929516816e-14\n",
      "loss: 1.9948486493313183e-14\n",
      "loss: 1.850963840207588e-14\n",
      "loss: 1.6893153949272197e-14\n",
      "loss: 1.518785131568532e-14\n",
      "loss: 1.3482548682098444e-14\n",
      "loss: 1.23367985545666e-14\n",
      "loss: 1.0533795752711624e-14\n",
      "loss: 8.490986065027694e-15\n",
      "loss: 7.673861851140943e-15\n",
      "loss: 6.075140526274128e-15\n",
      "loss: 4.831690653990658e-15\n",
      "loss: 4.556355394705596e-15\n",
      "loss: 4.209965506090686e-15\n",
      "loss: 2.966515845565453e-15\n",
      "loss: 2.6645352591003757e-15\n",
      "loss: 2.149391843436939e-15\n",
      "loss: 2.2382096007036566e-15\n",
      "loss: 2.309263806517031e-15\n",
      "loss: 1.758593287946907e-15\n",
      "loss: 1.367794732456875e-15\n",
      "loss: 1.1723955605909774e-15\n",
      "loss: 1.3145040780968443e-15\n",
      "loss: 1.323385853823516e-15\n",
      "loss: 1.0480504886593357e-15\n",
      "loss: 1.1546319032585154e-15\n",
      "loss: 1.2922996387801648e-15\n",
      "loss: 1.2434497664043516e-15\n",
      "loss: 1.1368683518051719e-15\n",
      "loss: 9.94759834299305e-16\n",
      "loss: 9.681145071192897e-16\n",
      "loss: 1.1168844093597196e-15\n",
      "loss: 9.903189464359691e-16\n",
      "loss: 8.371081563322033e-16\n",
      "loss: 1.0080824978893127e-15\n",
      "loss: 1.0769163127105782e-15\n",
      "loss: 9.792166738380702e-16\n",
      "loss: 1.041389209803891e-15\n",
      "loss: 9.792166738380702e-16\n",
      "loss: 1.3100631902335084e-15\n",
      "loss: 1.3100631902335084e-15\n",
      "loss: 1.2279067118222352e-15\n",
      "loss: 9.703348981113984e-16\n",
      "loss: 1.0169642736159844e-15\n",
      "loss: 1.1191048003518283e-15\n",
      "loss: 9.0372158016136e-16\n",
      "loss: 1.4122037169693523e-15\n",
      "loss: 1.2922996387801648e-15\n",
      "loss: 9.103828590168047e-16\n",
      "loss: 1.1146639124884924e-15\n",
      "loss: 9.681145071192897e-16\n",
      "loss: 1.08579808843725e-15\n",
      "loss: 1.2034817756343286e-15\n",
      "loss: 1.08579808843725e-15\n",
      "loss: 1.2900791419089377e-15\n",
      "loss: 1.1501910153951795e-15\n",
      "loss: 1.1568524001297426e-15\n",
      "loss: 1.3011814145068366e-15\n",
      "loss: 1.0325074340772193e-15\n",
      "loss: 1.2345679906776799e-15\n",
      "loss: 1.185718224180985e-15\n",
      "loss: 1.185718224180985e-15\n",
      "loss: 1.185718224180985e-15\n",
      "loss: 9.41469074060156e-16\n",
      "loss: 1.092459473171813e-15\n",
      "loss: 1.287858750916829e-15\n",
      "loss: 1.0969003610351489e-15\n",
      "loss: 1.0969003610351489e-15\n",
      "loss: 1.287858750916829e-15\n",
      "loss: 1.287858750916829e-15\n",
      "loss: 1.287858750916829e-15\n",
      "loss: 1.287858750916829e-15\n",
      "loss: 1.287858750916829e-15\n",
      "loss: 1.287858750916829e-15\n",
      "loss: 1.287858750916829e-15\n",
      "loss: 1.287858750916829e-15\n",
      "loss: 1.287858750916829e-15\n",
      "loss: 1.287858750916829e-15\n",
      "loss: 1.1279865760785001e-15\n",
      "loss: 1.4077628291060164e-15\n",
      "loss: 1.2234658239588993e-15\n",
      "loss: 1.4077628291060164e-15\n",
      "loss: 1.4077628291060164e-15\n",
      "loss: 1.4077628291060164e-15\n",
      "loss: 1.4077628291060164e-15\n",
      "loss: 1.4077628291060164e-15\n",
      "loss: 1.4077628291060164e-15\n",
      "loss: 1.4077628291060164e-15\n",
      "loss: 1.4077628291060164e-15\n",
      "loss: 1.4077628291060164e-15\n",
      "loss: 1.3455902931401955e-15\n",
      "loss: 1.4899193075172895e-15\n",
      "loss: 1.4899193075172895e-15\n",
      "loss: 1.4899193075172895e-15\n",
      "loss: 1.3455902931401955e-15\n",
      "loss: 1.3455902931401955e-15\n",
      "loss: 1.3455902931401955e-15\n",
      "loss: 1.3455902931401955e-15\n",
      "loss: 1.4899193075172895e-15\n",
      "loss: 1.4899193075172895e-15\n",
      "loss: 1.4899193075172895e-15\n",
      "loss: 1.3455902931401955e-15\n",
      "loss: 1.3455902931401955e-15\n",
      "loss: 1.3455902931401955e-15\n",
      "loss: 1.3455902931401955e-15\n",
      "loss: 1.4899193075172895e-15\n",
      "loss: 1.4899193075172895e-15\n",
      "loss: 1.2234658239588993e-15\n",
      "loss: 1.3367085174135237e-15\n",
      "loss: 1.0969003610351489e-15\n",
      "loss: 1.3145040780968443e-15\n",
      "loss: 1.3145040780968443e-15\n",
      "loss: 1.3145040780968443e-15\n",
      "loss: 1.3145040780968443e-15\n",
      "loss: 1.3145040780968443e-15\n",
      "loss: 1.3145040780968443e-15\n",
      "loss: 1.3145040780968443e-15\n",
      "loss: 1.3145040780968443e-15\n",
      "loss: 1.42552638055936e-15\n",
      "loss: 1.3367085174135237e-15\n",
      "loss: 1.3367085174135237e-15\n",
      "loss: 1.3367085174135237e-15\n",
      "loss: 1.42552638055936e-15\n",
      "loss: 1.42552638055936e-15\n",
      "loss: 1.42552638055936e-15\n",
      "loss: 1.42552638055936e-15\n",
      "loss: 1.42552638055936e-15\n",
      "loss: 1.42552638055936e-15\n",
      "loss: 1.42552638055936e-15\n",
      "loss: 1.42552638055936e-15\n",
      "loss: 1.2123635513610004e-15\n",
      "loss: 1.2123635513610004e-15\n",
      "loss: 1.2123635513610004e-15\n",
      "loss: 1.2123635513610004e-15\n",
      "loss: 1.2123635513610004e-15\n",
      "loss: 1.2123635513610004e-15\n",
      "loss: 1.2123635513610004e-15\n",
      "loss: 1.2123635513610004e-15\n",
      "loss: 1.2123635513610004e-15\n",
      "loss: 1.2123635513610004e-15\n",
      "loss: 1.2123635513610004e-15\n",
      "loss: 1.2123635513610004e-15\n",
      "loss: 1.2123635513610004e-15\n",
      "loss: 1.2123635513610004e-15\n",
      "loss: 1.2123635513610004e-15\n",
      "loss: 1.2123635513610004e-15\n",
      "loss: 1.2123635513610004e-15\n",
      "loss: 1.2123635513610004e-15\n",
      "loss: 1.2123635513610004e-15\n",
      "loss: 1.2123635513610004e-15\n",
      "loss: 1.2123635513610004e-15\n",
      "loss: 1.2123635513610004e-15\n",
      "loss: 1.2123635513610004e-15\n",
      "loss: 1.2123635513610004e-15\n",
      "loss: 1.2123635513610004e-15\n",
      "loss: 1.2123635513610004e-15\n",
      "loss: 1.2123635513610004e-15\n",
      "loss: 1.2123635513610004e-15\n",
      "loss: 1.2123635513610004e-15\n",
      "loss: 1.2123635513610004e-15\n",
      "loss: 1.2123635513610004e-15\n",
      "loss: 1.2123635513610004e-15\n",
      "loss: 1.2123635513610004e-15\n",
      "loss: 1.2123635513610004e-15\n",
      "loss: 1.2123635513610004e-15\n",
      "loss: 1.2123635513610004e-15\n",
      "loss: 1.2123635513610004e-15\n",
      "loss: 1.2123635513610004e-15\n",
      "loss: 1.2123635513610004e-15\n",
      "loss: 1.2123635513610004e-15\n",
      "loss: 1.2123635513610004e-15\n",
      "loss: 1.2123635513610004e-15\n",
      "loss: 1.2123635513610004e-15\n",
      "loss: 1.2123635513610004e-15\n",
      "loss: 1.2123635513610004e-15\n",
      "loss: 1.2123635513610004e-15\n",
      "loss: 1.2123635513610004e-15\n",
      "loss: 1.2123635513610004e-15\n",
      "loss: 1.2123635513610004e-15\n",
      "loss: 1.2123635513610004e-15\n"
     ]
    },
    {
     "ename": "KeyboardInterrupt",
     "evalue": "",
     "output_type": "error",
     "traceback": [
      "\u001b[0;31m---------------------------------------------------------------------------\u001b[0m",
      "\u001b[0;31mKeyboardInterrupt\u001b[0m                         Traceback (most recent call last)",
      "\u001b[0;32m<ipython-input-232-19e23e0ed07d>\u001b[0m in \u001b[0;36m<module>\u001b[0;34m()\u001b[0m\n\u001b[1;32m      4\u001b[0m     \u001b[0moptimizer\u001b[0m\u001b[0;34m.\u001b[0m\u001b[0mzero_grad\u001b[0m\u001b[0;34m(\u001b[0m\u001b[0;34m)\u001b[0m\u001b[0;34m\u001b[0m\u001b[0;34m\u001b[0m\u001b[0m\n\u001b[1;32m      5\u001b[0m \u001b[0;34m\u001b[0m\u001b[0m\n\u001b[0;32m----> 6\u001b[0;31m     \u001b[0mNN_D\u001b[0m \u001b[0;34m=\u001b[0m \u001b[0mrun_dynamics\u001b[0m\u001b[0;34m(\u001b[0m\u001b[0mState0\u001b[0m\u001b[0;34m,\u001b[0m \u001b[0;34m{\u001b[0m\u001b[0;34m'nn'\u001b[0m \u001b[0;34m:\u001b[0m \u001b[0mnn_solver\u001b[0m\u001b[0;34m}\u001b[0m\u001b[0;34m,\u001b[0m \u001b[0msteps\u001b[0m\u001b[0;34m=\u001b[0m\u001b[0mTSize\u001b[0m\u001b[0;34m)\u001b[0m\u001b[0;34m\u001b[0m\u001b[0;34m\u001b[0m\u001b[0m\n\u001b[0m\u001b[1;32m      7\u001b[0m     \u001b[0mloss\u001b[0m \u001b[0;34m=\u001b[0m \u001b[0meval_energy_loss\u001b[0m\u001b[0;34m(\u001b[0m\u001b[0mNN_D\u001b[0m\u001b[0;34m[\u001b[0m\u001b[0;34m'nn'\u001b[0m\u001b[0;34m]\u001b[0m\u001b[0;34m)\u001b[0m\u001b[0;34m\u001b[0m\u001b[0;34m\u001b[0m\u001b[0m\n\u001b[1;32m      8\u001b[0m \u001b[0;34m\u001b[0m\u001b[0m\n",
      "\u001b[0;32m<ipython-input-74-6cb3fabb8c58>\u001b[0m in \u001b[0;36mrun_dynamics\u001b[0;34m(state0, solvers, steps, h, detach)\u001b[0m\n\u001b[1;32m      6\u001b[0m         \u001b[0msolver\u001b[0m \u001b[0;34m=\u001b[0m \u001b[0msolvers\u001b[0m\u001b[0;34m[\u001b[0m\u001b[0mk\u001b[0m\u001b[0;34m]\u001b[0m\u001b[0;34m\u001b[0m\u001b[0;34m\u001b[0m\u001b[0m\n\u001b[1;32m      7\u001b[0m         \u001b[0;32mfor\u001b[0m \u001b[0mi\u001b[0m \u001b[0;32min\u001b[0m \u001b[0mrange\u001b[0m\u001b[0;34m(\u001b[0m\u001b[0msteps\u001b[0m\u001b[0;34m)\u001b[0m\u001b[0;34m:\u001b[0m\u001b[0;34m\u001b[0m\u001b[0;34m\u001b[0m\u001b[0m\n\u001b[0;32m----> 8\u001b[0;31m             \u001b[0ms\u001b[0m \u001b[0;34m=\u001b[0m \u001b[0msolver\u001b[0m\u001b[0;34m.\u001b[0m\u001b[0mstep\u001b[0m\u001b[0;34m(\u001b[0m\u001b[0mstate\u001b[0m\u001b[0;34m=\u001b[0m\u001b[0mstates\u001b[0m\u001b[0;34m[\u001b[0m\u001b[0;34m-\u001b[0m\u001b[0;36m1\u001b[0m\u001b[0;34m]\u001b[0m\u001b[0;34m,\u001b[0m \u001b[0mh\u001b[0m\u001b[0;34m=\u001b[0m\u001b[0mh\u001b[0m\u001b[0;34m)\u001b[0m\u001b[0;34m\u001b[0m\u001b[0;34m\u001b[0m\u001b[0m\n\u001b[0m\u001b[1;32m      9\u001b[0m             \u001b[0;32mif\u001b[0m \u001b[0mdetach\u001b[0m\u001b[0;34m:\u001b[0m\u001b[0;34m\u001b[0m\u001b[0;34m\u001b[0m\u001b[0m\n\u001b[1;32m     10\u001b[0m                 \u001b[0ms\u001b[0m \u001b[0;34m=\u001b[0m \u001b[0ms\u001b[0m\u001b[0;34m.\u001b[0m\u001b[0mdetach\u001b[0m\u001b[0;34m(\u001b[0m\u001b[0;34m)\u001b[0m\u001b[0;34m\u001b[0m\u001b[0;34m\u001b[0m\u001b[0m\n",
      "\u001b[0;32m<ipython-input-218-013384b7de9d>\u001b[0m in \u001b[0;36mstep\u001b[0;34m(self, state, h)\u001b[0m\n\u001b[1;32m     47\u001b[0m         \u001b[0mk3\u001b[0m \u001b[0;34m=\u001b[0m \u001b[0mself\u001b[0m\u001b[0;34m.\u001b[0m\u001b[0mdyn\u001b[0m\u001b[0;34m(\u001b[0m\u001b[0mstate\u001b[0m \u001b[0;34m+\u001b[0m \u001b[0mh\u001b[0m \u001b[0;34m*\u001b[0m \u001b[0mself\u001b[0m\u001b[0;34m.\u001b[0m\u001b[0mxs\u001b[0m\u001b[0;34m[\u001b[0m\u001b[0;36m2\u001b[0m\u001b[0;34m]\u001b[0m \u001b[0;34m*\u001b[0m \u001b[0mk2\u001b[0m\u001b[0;34m)\u001b[0m\u001b[0;34m\u001b[0m\u001b[0;34m\u001b[0m\u001b[0m\n\u001b[1;32m     48\u001b[0m \u001b[0;34m\u001b[0m\u001b[0m\n\u001b[0;32m---> 49\u001b[0;31m         \u001b[0mdelta\u001b[0m \u001b[0;34m=\u001b[0m \u001b[0mh\u001b[0m \u001b[0;34m*\u001b[0m \u001b[0;34m(\u001b[0m\u001b[0mself\u001b[0m\u001b[0;34m.\u001b[0m\u001b[0mws\u001b[0m\u001b[0;34m[\u001b[0m\u001b[0;36m0\u001b[0m\u001b[0;34m]\u001b[0m \u001b[0;34m*\u001b[0m \u001b[0mk0\u001b[0m \u001b[0;34m+\u001b[0m \u001b[0mself\u001b[0m\u001b[0;34m.\u001b[0m\u001b[0mws\u001b[0m\u001b[0;34m[\u001b[0m\u001b[0;36m1\u001b[0m\u001b[0;34m]\u001b[0m \u001b[0;34m*\u001b[0m \u001b[0mk1\u001b[0m \u001b[0;34m+\u001b[0m \u001b[0mself\u001b[0m\u001b[0;34m.\u001b[0m\u001b[0mws\u001b[0m\u001b[0;34m[\u001b[0m\u001b[0;36m2\u001b[0m\u001b[0;34m]\u001b[0m \u001b[0;34m*\u001b[0m \u001b[0mk2\u001b[0m \u001b[0;34m+\u001b[0m \u001b[0mself\u001b[0m\u001b[0;34m.\u001b[0m\u001b[0mws\u001b[0m\u001b[0;34m[\u001b[0m\u001b[0;36m3\u001b[0m\u001b[0;34m]\u001b[0m \u001b[0;34m*\u001b[0m \u001b[0mk3\u001b[0m\u001b[0;34m)\u001b[0m\u001b[0;34m\u001b[0m\u001b[0;34m\u001b[0m\u001b[0m\n\u001b[0m\u001b[1;32m     50\u001b[0m         \u001b[0mnew_state\u001b[0m \u001b[0;34m=\u001b[0m \u001b[0mstate\u001b[0m \u001b[0;34m+\u001b[0m \u001b[0mdelta\u001b[0m\u001b[0;34m\u001b[0m\u001b[0;34m\u001b[0m\u001b[0m\n\u001b[1;32m     51\u001b[0m         \u001b[0;32mreturn\u001b[0m \u001b[0mnew_state\u001b[0m\u001b[0;34m\u001b[0m\u001b[0;34m\u001b[0m\u001b[0m\n",
      "\u001b[0;31mKeyboardInterrupt\u001b[0m: "
     ]
    }
   ],
   "source": [
    "TSize = 100\n",
    "\n",
    "for epoch in range(2000):\n",
    "    optimizer.zero_grad()\n",
    "    \n",
    "    NN_D = run_dynamics(State0, {'nn' : nn_solver}, steps=TSize)\n",
    "    loss = eval_energy_loss(NN_D['nn'])\n",
    "    \n",
    "    if epoch % 2 == 0:\n",
    "        print(\"loss: {}\".format(loss))\n",
    "\n",
    "    nn_solver.zero_grad()\n",
    "    loss.backward()\n",
    "    optimizer.step()"
   ]
  },
  {
   "cell_type": "code",
   "execution_count": 245,
   "metadata": {},
   "outputs": [],
   "source": [
    "GravitySystem = Gravity(torch.tensor([1, 1, 1], dtype=TType))\n",
    "gravity = GravitySystem['dyn']\n",
    "energy = GravitySystem['energy']\n",
    "\n",
    "XPos = torch.tensor([[-1, 0], \n",
    "                      [1, 0],\n",
    "                      [0, 1]], dtype=TType)\n",
    "\n",
    "\n",
    "Vels = torch.tensor([[0,  0.2],\n",
    "                     [0, -0.2],\n",
    "                     [0.2,  0]], dtype=TType)\n",
    "\n",
    "State0 = torch.stack([XPos, Vels])"
   ]
  },
  {
   "cell_type": "code",
   "execution_count": 251,
   "metadata": {},
   "outputs": [],
   "source": [
    "rk_solver = RungeKutte(gravity)\n",
    "nn_solver.dyn = gravity"
   ]
  },
  {
   "cell_type": "code",
   "execution_count": 262,
   "metadata": {},
   "outputs": [],
   "source": [
    "T_c = run_dynamics(State0, {'rk' : rk_solver, 'nn' : nn_solver}, steps=2000, h=0.001, detach=True)"
   ]
  },
  {
   "cell_type": "code",
   "execution_count": 263,
   "metadata": {},
   "outputs": [
    {
     "name": "stdout",
     "output_type": "stream",
     "text": [
      "loss_rk: 33.079750061035156, loss: 0.0009812647476792336, d_loss: 3.6715939044952393\n"
     ]
    },
    {
     "data": {
      "image/png": "[encoded data removed]",
      "text/plain": [
       "<Figure size 720x360 with 2 Axes>"
      ]
     },
     "metadata": {},
     "output_type": "display_data"
    }
   ],
   "source": [
    "e_loss = eval_energy_loss(T_c['nn'])\n",
    "e_loss_rk = eval_energy_loss(T_c['rk'])\n",
    "\n",
    "d_loss = eval_loss(T_c['rk'], T_c['nn'])\n",
    "\n",
    "print(\"loss_rk: {}, loss: {}, d_loss: {}\".format(e_loss_rk, e_loss, d_loss))\n",
    "\n",
    "plt.figure(figsize=(10,5))\n",
    "plt.subplot(1,2,1)\n",
    "plot_h(T['rk'], 'black')\n",
    "plot_h(T['nn'], 'r')\n",
    "\n",
    "plt.subplot(1,2,2)\n",
    "plot_h(T_c['rk'], ',', color='black')\n",
    "plot_h(T_c['nn'], ',', color='r')"
   ]
  },
  {
   "cell_type": "code",
   "execution_count": 239,
   "metadata": {},
   "outputs": [
    {
     "data": {
      "text/plain": [
       "Parameter containing:\n",
       "tensor([ 0.3803,  0.0718, -0.0814,  0.2960], requires_grad=True)"
      ]
     },
     "execution_count": 239,
     "metadata": {},
     "output_type": "execute_result"
    }
   ],
   "source": [
    "nn_solver.ws"
   ]
  },
  {
   "cell_type": "code",
   "execution_count": 240,
   "metadata": {},
   "outputs": [
    {
     "data": {
      "text/plain": [
       "Parameter containing:\n",
       "tensor([0.1671, 0.2545, 0.7804], requires_grad=True)"
      ]
     },
     "execution_count": 240,
     "metadata": {},
     "output_type": "execute_result"
    }
   ],
   "source": [
    "nn_solver.xs"
   ]
  },
  {
   "cell_type": "code",
   "execution_count": null,
   "metadata": {},
   "outputs": [],
   "source": []
  },
  {
   "cell_type": "code",
   "execution_count": 280,
   "metadata": {},
   "outputs": [
    {
     "data": {
      "text/plain": [
       "tensor(-0.2592)"
      ]
     },
     "execution_count": 280,
     "metadata": {},
     "output_type": "execute_result"
    }
   ],
   "source": [
    "energy(T_c['nn'][400])"
   ]
  },
  {
   "cell_type": "code",
   "execution_count": 237,
   "metadata": {},
   "outputs": [
    {
     "data": {
      "text/plain": [
       "tensor([-0.7262,  0.1119,  0.9504,  0.2622])"
      ]
     },
     "execution_count": 237,
     "metadata": {},
     "output_type": "execute_result"
    }
   ],
   "source": [
    "2*torch.rand(4) - 1"
   ]
  },
  {
   "cell_type": "code",
   "execution_count": 254,
   "metadata": {},
   "outputs": [
    {
     "name": "stdout",
     "output_type": "stream",
     "text": [
      "Shoot: 0\n",
      "Shoot: 1\n",
      "Shoot: 2\n",
      "Shoot: 3\n",
      "Shoot: 4\n",
      "Shoot: 5\n",
      "Shoot: 6\n",
      "Shoot: 7\n",
      "Shoot: 8\n",
      "Shoot: 9\n",
      "12.792181491851807\n"
     ]
    }
   ],
   "source": [
    "HStep = 0.1\n",
    "eps = 1e-1\n",
    "NSteps = 1000\n",
    "euler_solver = EulerSolver(dyn=gravity, h=HStep)\n",
    "rk_solver = RungeKutte(dyn=gravity, h=HStep)\n",
    "RK_D = run_dynamics(State0, {'rk' : rk_solver}, NSteps, detach=True)\n",
    "\n",
    "losses = []\n",
    "t0 = time()\n",
    "for i in range(10):\n",
    "    print(\"Shoot: {}\".format(i))\n",
    "    nn_solver = NNSolver(dyn=gravity, h=HStep)\n",
    "    \n",
    "    xs = torch.tensor([0.5, 0.5, 1], dtype=TType) + eps*(2*torch.rand(3) - 1)\n",
    "    ys = torch.tensor([1/6, 1/3, 1/3, 1/6], dtype=TType) + eps*(2*torch.rand(4) - 1)\n",
    "    nn_solver.xs = nn.Parameter(xs)\n",
    "    nn_solver.ws = nn.Parameter(ys)\n",
    "\n",
    "    NN_D = run_dynamics(State0, {'nn' : nn_solver}, NSteps, detach=True)\n",
    "    losses.append(eval_loss(RK_D['rk'], NN_D['nn']))\n",
    "    \n",
    "print(time() - t0)"
   ]
  },
  {
   "cell_type": "code",
   "execution_count": 252,
   "metadata": {},
   "outputs": [
    {
     "data": {
      "text/plain": [
       "[tensor(0.4993),\n",
       " tensor(4478.8745),\n",
       " tensor(0.5930),\n",
       " tensor(0.3069),\n",
       " tensor(0.1609),\n",
       " tensor(0.1318),\n",
       " tensor(809.4890),\n",
       " tensor(0.6472),\n",
       " tensor(0.7225),\n",
       " tensor(0.5124)]"
      ]
     },
     "execution_count": 252,
     "metadata": {},
     "output_type": "execute_result"
    }
   ],
   "source": [
    "losses"
   ]
  },
  {
   "cell_type": "code",
   "execution_count": 245,
   "metadata": {},
   "outputs": [
    {
     "data": {
      "text/plain": [
       "[<matplotlib.lines.Line2D at 0x7fb110fe4cf8>]"
      ]
     },
     "execution_count": 245,
     "metadata": {},
     "output_type": "execute_result"
    },
    {
     "data": {
      "image/png": "[encoded data removed]",
      "text/plain": [
       "<Figure size 432x288 with 1 Axes>"
      ]
     },
     "metadata": {},
     "output_type": "display_data"
    }
   ],
   "source": [
    "plt.plot(losses)"
   ]
  },
  {
   "cell_type": "code",
   "execution_count": 248,
   "metadata": {},
   "outputs": [
    {
     "data": {
      "image/png": "[encoded data removed]",
      "text/plain": [
       "<Figure size 360x360 with 1 Axes>"
      ]
     },
     "metadata": {},
     "output_type": "display_data"
    }
   ],
   "source": [
    "plt.figure(figsize=(5,5))\n",
    "plot_h(RK_D['rk'], ',', color='black')\n",
    "plot_h(NN_D['nn'], ',', color='r')"
   ]
  },
  {
   "cell_type": "code",
   "execution_count": 191,
   "metadata": {},
   "outputs": [
    {
     "data": {
      "image/png": "[encoded data removed]",
      "text/plain": [
       "<Figure size 360x360 with 1 Axes>"
      ]
     },
     "metadata": {},
     "output_type": "display_data"
    }
   ],
   "source": [
    "plt.figure(figsize=(5,5))\n",
    "plot_h(T_c['rk'], ',', color='black')\n",
    "plot_h(T_c['nn'], ',', color='r')"
   ]
  },
  {
   "cell_type": "code",
   "execution_count": 188,
   "metadata": {},
   "outputs": [
    {
     "data": {
      "image/png": "[encoded data removed]",
      "text/plain": [
       "<Figure size 360x360 with 1 Axes>"
      ]
     },
     "metadata": {},
     "output_type": "display_data"
    }
   ],
   "source": [
    "plt.figure(figsize=(5,5))\n",
    "plot_h(T_c['rk'], ',', color='black')\n",
    "plot_h(T_c['nn'], ',', color='r')"
   ]
  },
  {
   "cell_type": "code",
   "execution_count": 152,
   "metadata": {},
   "outputs": [
    {
     "data": {
      "image/png": "[encoded data removed]",
      "text/plain": [
       "<Figure size 360x360 with 1 Axes>"
      ]
     },
     "metadata": {},
     "output_type": "display_data"
    }
   ],
   "source": [
    "plt.figure(figsize=(5,5))\n",
    "plot_h(T_c['rk'], ',', color='black')\n",
    "plot_h(T_c['nn'], ',', color='r')"
   ]
  },
  {
   "cell_type": "code",
   "execution_count": 180,
   "metadata": {},
   "outputs": [
    {
     "data": {
      "text/plain": [
       "Parameter containing:\n",
       "tensor([ 0.3375,  0.5436, -0.0780,  0.1968], requires_grad=True)"
      ]
     },
     "execution_count": 180,
     "metadata": {},
     "output_type": "execute_result"
    }
   ],
   "source": [
    "nn_solver.ws"
   ]
  },
  {
   "cell_type": "code",
   "execution_count": 181,
   "metadata": {},
   "outputs": [
    {
     "data": {
      "text/plain": [
       "Parameter containing:\n",
       "tensor([ 0.6486, -0.3332,  0.6565], requires_grad=True)"
      ]
     },
     "execution_count": 181,
     "metadata": {},
     "output_type": "execute_result"
    }
   ],
   "source": [
    "nn_solver.xs"
   ]
  },
  {
   "cell_type": "code",
   "execution_count": null,
   "metadata": {},
   "outputs": [],
   "source": []
  },
  {
   "cell_type": "code",
   "execution_count": 96,
   "metadata": {},
   "outputs": [
    {
     "data": {
      "image/png": "[encoded data removed]",
      "text/plain": [
       "<Figure size 360x360 with 1 Axes>"
      ]
     },
     "metadata": {},
     "output_type": "display_data"
    }
   ],
   "source": [
    "plt.figure(figsize=(5,5))\n",
    "plot_h(T_c['rk'], ',', color='black')\n",
    "plot_h(T_c['nn'], ',', color='r')"
   ]
  },
  {
   "cell_type": "code",
   "execution_count": 93,
   "metadata": {},
   "outputs": [
    {
     "data": {
      "image/png": "[encoded data removed]",
      "text/plain": [
       "<Figure size 360x360 with 1 Axes>"
      ]
     },
     "metadata": {},
     "output_type": "display_data"
    }
   ],
   "source": [
    "plt.figure(figsize=(5,5))\n",
    "plot_h(T_c['rk'], ',', color='black')\n",
    "plot_h(T_c['nn'], ',', color='r')"
   ]
  },
  {
   "cell_type": "code",
   "execution_count": 90,
   "metadata": {},
   "outputs": [
    {
     "data": {
      "image/png": "[encoded data removed]",
      "text/plain": [
       "<Figure size 360x360 with 1 Axes>"
      ]
     },
     "metadata": {},
     "output_type": "display_data"
    }
   ],
   "source": [
    "plt.figure(figsize=(5,5))\n",
    "plot_h(T_c['rk'], ',', color='black')\n",
    "plot_h(T_c['nn'], ',', color='r')"
   ]
  },
  {
   "cell_type": "code",
   "execution_count": 87,
   "metadata": {},
   "outputs": [
    {
     "data": {
      "image/png": "[encoded data removed]",
      "text/plain": [
       "<Figure size 360x360 with 1 Axes>"
      ]
     },
     "metadata": {},
     "output_type": "display_data"
    }
   ],
   "source": [
    "plt.figure(figsize=(5,5))\n",
    "plot_h(T_c['rk'], ',', color='black')\n",
    "plot_h(T_c['nn'], ',', color='r')"
   ]
  },
  {
   "cell_type": "code",
   "execution_count": 82,
   "metadata": {},
   "outputs": [
    {
     "data": {
      "text/plain": [
       "Parameter containing:\n",
       "tensor([0.5845, 0.4266, 0.2496], requires_grad=True)"
      ]
     },
     "execution_count": 82,
     "metadata": {},
     "output_type": "execute_result"
    }
   ],
   "source": [
    "nn_solver.xs"
   ]
  },
  {
   "cell_type": "code",
   "execution_count": 83,
   "metadata": {},
   "outputs": [
    {
     "data": {
      "text/plain": [
       "Parameter containing:\n",
       "tensor([-0.0401,  0.7768, -0.0975,  0.3615], requires_grad=True)"
      ]
     },
     "execution_count": 83,
     "metadata": {},
     "output_type": "execute_result"
    }
   ],
   "source": [
    "nn_solver.ws"
   ]
  },
  {
   "cell_type": "code",
   "execution_count": null,
   "metadata": {},
   "outputs": [],
   "source": []
  },
  {
   "cell_type": "code",
   "execution_count": 49,
   "metadata": {},
   "outputs": [
    {
     "ename": "RuntimeError",
     "evalue": "element 0 of tensors does not require grad and does not have a grad_fn",
     "output_type": "error",
     "traceback": [
      "\u001b[0;31m---------------------------------------------------------------------------\u001b[0m",
      "\u001b[0;31mRuntimeError\u001b[0m                              Traceback (most recent call last)",
      "\u001b[0;32m<ipython-input-49-52a0569421b1>\u001b[0m in \u001b[0;36m<module>\u001b[0;34m()\u001b[0m\n\u001b[0;32m----> 1\u001b[0;31m \u001b[0mloss\u001b[0m\u001b[0;34m.\u001b[0m\u001b[0mbackward\u001b[0m\u001b[0;34m(\u001b[0m\u001b[0;34m)\u001b[0m\u001b[0;34m\u001b[0m\u001b[0;34m\u001b[0m\u001b[0m\n\u001b[0m",
      "\u001b[0;32m/nix/store/l4d0f7q7q0c1fhld23qpx3fdb1nbq4a1-python3-3.6.8-env/lib/python3.6/site-packages/torch/tensor.py\u001b[0m in \u001b[0;36mbackward\u001b[0;34m(self, gradient, retain_graph, create_graph)\u001b[0m\n\u001b[1;32m     91\u001b[0m                 \u001b[0mproducts\u001b[0m\u001b[0;34m.\u001b[0m \u001b[0mDefaults\u001b[0m \u001b[0mto\u001b[0m\u001b[0;31m \u001b[0m\u001b[0;31m`\u001b[0m\u001b[0;31m`\u001b[0m\u001b[0;32mFalse\u001b[0m\u001b[0;31m`\u001b[0m\u001b[0;31m`\u001b[0m\u001b[0;34m.\u001b[0m\u001b[0;34m\u001b[0m\u001b[0;34m\u001b[0m\u001b[0m\n\u001b[1;32m     92\u001b[0m         \"\"\"\n\u001b[0;32m---> 93\u001b[0;31m         \u001b[0mtorch\u001b[0m\u001b[0;34m.\u001b[0m\u001b[0mautograd\u001b[0m\u001b[0;34m.\u001b[0m\u001b[0mbackward\u001b[0m\u001b[0;34m(\u001b[0m\u001b[0mself\u001b[0m\u001b[0;34m,\u001b[0m \u001b[0mgradient\u001b[0m\u001b[0;34m,\u001b[0m \u001b[0mretain_graph\u001b[0m\u001b[0;34m,\u001b[0m \u001b[0mcreate_graph\u001b[0m\u001b[0;34m)\u001b[0m\u001b[0;34m\u001b[0m\u001b[0;34m\u001b[0m\u001b[0m\n\u001b[0m\u001b[1;32m     94\u001b[0m \u001b[0;34m\u001b[0m\u001b[0m\n\u001b[1;32m     95\u001b[0m     \u001b[0;32mdef\u001b[0m \u001b[0mregister_hook\u001b[0m\u001b[0;34m(\u001b[0m\u001b[0mself\u001b[0m\u001b[0;34m,\u001b[0m \u001b[0mhook\u001b[0m\u001b[0;34m)\u001b[0m\u001b[0;34m:\u001b[0m\u001b[0;34m\u001b[0m\u001b[0;34m\u001b[0m\u001b[0m\n",
      "\u001b[0;32m/nix/store/l4d0f7q7q0c1fhld23qpx3fdb1nbq4a1-python3-3.6.8-env/lib/python3.6/site-packages/torch/autograd/__init__.py\u001b[0m in \u001b[0;36mbackward\u001b[0;34m(tensors, grad_tensors, retain_graph, create_graph, grad_variables)\u001b[0m\n\u001b[1;32m     88\u001b[0m     Variable._execution_engine.run_backward(\n\u001b[1;32m     89\u001b[0m         \u001b[0mtensors\u001b[0m\u001b[0;34m,\u001b[0m \u001b[0mgrad_tensors\u001b[0m\u001b[0;34m,\u001b[0m \u001b[0mretain_graph\u001b[0m\u001b[0;34m,\u001b[0m \u001b[0mcreate_graph\u001b[0m\u001b[0;34m,\u001b[0m\u001b[0;34m\u001b[0m\u001b[0;34m\u001b[0m\u001b[0m\n\u001b[0;32m---> 90\u001b[0;31m         allow_unreachable=True)  # allow_unreachable flag\n\u001b[0m\u001b[1;32m     91\u001b[0m \u001b[0;34m\u001b[0m\u001b[0m\n\u001b[1;32m     92\u001b[0m \u001b[0;34m\u001b[0m\u001b[0m\n",
      "\u001b[0;31mRuntimeError\u001b[0m: element 0 of tensors does not require grad and does not have a grad_fn"
     ]
    }
   ],
   "source": [
    "loss.backward()"
   ]
  },
  {
   "cell_type": "code",
   "execution_count": 600,
   "metadata": {},
   "outputs": [
    {
     "name": "stdout",
     "output_type": "stream",
     "text": [
      "loss: 34130.19921875\n"
     ]
    },
    {
     "data": {
      "image/png": "[encoded data removed]",
      "text/plain": [
       "<Figure size 360x360 with 1 Axes>"
      ]
     },
     "metadata": {},
     "output_type": "display_data"
    }
   ],
   "source": [
    "k_states_t, nn_states_t, loss = run_dynamics(10000)\n",
    "\n",
    "print(\"loss: {}\".format(loss))\n",
    "plt.figure(figsize=(5,5))\n",
    "plot_h(k_states_t, ',')\n",
    "plot_h(nn_states_t, ',')\n"
   ]
  },
  {
   "cell_type": "code",
   "execution_count": 602,
   "metadata": {},
   "outputs": [
    {
     "data": {
      "text/plain": [
       "Parameter containing:\n",
       "tensor([0.1488, 0.4642, 0.9074], requires_grad=True)"
      ]
     },
     "execution_count": 602,
     "metadata": {},
     "output_type": "execute_result"
    }
   ],
   "source": [
    "nn_solver.xs"
   ]
  },
  {
   "cell_type": "code",
   "execution_count": 603,
   "metadata": {},
   "outputs": [
    {
     "data": {
      "text/plain": [
       "Parameter containing:\n",
       "tensor([ 0.2591, -0.1598,  0.6602,  0.2406], requires_grad=True)"
      ]
     },
     "execution_count": 603,
     "metadata": {},
     "output_type": "execute_result"
    }
   ],
   "source": [
    "nn_solver.ws"
   ]
  },
  {
   "cell_type": "code",
   "execution_count": null,
   "metadata": {},
   "outputs": [],
   "source": []
  },
  {
   "cell_type": "code",
   "execution_count": 587,
   "metadata": {},
   "outputs": [
    {
     "data": {
      "text/plain": [
       "Parameter containing:\n",
       "tensor([0.1471, 0.4638, 0.9076], requires_grad=True)"
      ]
     },
     "execution_count": 587,
     "metadata": {},
     "output_type": "execute_result"
    }
   ],
   "source": [
    "nn_solver.xs"
   ]
  },
  {
   "cell_type": "code",
   "execution_count": 588,
   "metadata": {},
   "outputs": [
    {
     "data": {
      "text/plain": [
       "Parameter containing:\n",
       "tensor([ 0.2591, -0.1598,  0.6602,  0.2406], requires_grad=True)"
      ]
     },
     "execution_count": 588,
     "metadata": {},
     "output_type": "execute_result"
    }
   ],
   "source": [
    "nn_solver.ws"
   ]
  },
  {
   "cell_type": "code",
   "execution_count": 378,
   "metadata": {},
   "outputs": [
    {
     "data": {
      "image/png": "[encoded data removed]",
      "text/plain": [
       "<Figure size 360x360 with 1 Axes>"
      ]
     },
     "metadata": {},
     "output_type": "display_data"
    }
   ],
   "source": [
    "plt.figure(figsize=(5,5))\n",
    "plot_h(k_states, 'r')\n",
    "plot_h(nn_states, 'b')"
   ]
  },
  {
   "cell_type": "code",
   "execution_count": null,
   "metadata": {},
   "outputs": [],
   "source": []
  }
 ],
 "metadata": {
  "kernelspec": {
   "display_name": "Python 3",
   "language": "python",
   "name": "python3"
  },
  "language_info": {
   "codemirror_mode": {
    "name": "ipython",
    "version": 3
   },
   "file_extension": ".py",
   "mimetype": "text/x-python",
   "name": "python",
   "nbconvert_exporter": "python",
   "pygments_lexer": "ipython3",
   "version": "3.6.8"
  }
 },
 "nbformat": 4,
 "nbformat_minor": 2
}
